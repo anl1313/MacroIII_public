{
 "cells": [
  {
   "cell_type": "markdown",
   "id": "40f37475-5641-4d54-9595-41caa41084be",
   "metadata": {},
   "source": [
    "## The OLG model\n",
    "This file constructs graphs describing the steady state of the OLG model, as well as several comparative statics. "
   ]
  },
  {
   "cell_type": "code",
   "execution_count": 14,
   "id": "2266f047",
   "metadata": {},
   "outputs": [
    {
     "data": {
      "application/vnd.jupyter.widget-view+json": {
       "model_id": "776f152ab98f478480f4e90a6c7c8e7e",
       "version_major": 2,
       "version_minor": 0
      },
      "text/plain": [
       "interactive(children=(FloatSlider(value=0.3, description='α', max=0.99, min=0.1, step=0.05), FloatSlider(value…"
      ]
     },
     "metadata": {},
     "output_type": "display_data"
    }
   ],
   "source": [
    "import numpy as np\n",
    "import matplotlib.pyplot as plt\n",
    "from scipy import optimize\n",
    "import matplotlib.pyplot as plt\n",
    "import ipywidgets as widgets # For interactive plots/buttons\n",
    "\n",
    "## Parameters\n",
    "α = 1/3\n",
    "σ = 1.0001\n",
    "δ = 0.1\n",
    "β = 0.96\n",
    "n = 0.02\n",
    "A = 5\n",
    "\n",
    "## Production function\n",
    "def f(k,α,A):\n",
    "    out = A*k**α\n",
    "    return out\n",
    "\n",
    "kmax = 6\n",
    "knum = 100\n",
    "\n",
    "## Steady state\n",
    "k_olg = (A*β/(1+β) * (1-α)/(1+n) )**(1/(1-α))\n",
    "r_olg = α*A*k_olg**(α-1)\n",
    "w_olg = (1-α)*A*k_olg**(α)\n",
    "\n",
    "c0 = 1/(1+β) * w_olg\n",
    "c1 = (1+r_olg)*β/(1+β) * w_olg\n",
    "\n",
    "ca = c0 + c1/(1+n)\n",
    "cb = A*k_olg**α-n*k_olg\n",
    "\n",
    "\n",
    "## define graph of standard graph of the OLG economy\n",
    "def OLG_plot(α, β, n, A):\n",
    "    kvec = np.linspace(0,kmax,knum) \n",
    "    plt.plot(kvec,β/(1+β) * (1-α)/(1+n)*f(kvec,α,A), label= r'$k_{t+1}$', color = 'green')\n",
    "    plt.plot(kvec,kvec, color = 'black', linestyle = 'dashed')\n",
    "    #plot alternative path where A is higher\n",
    "    #plt.plot(kvec,β/(1+β) * (1-α)/(1+n)*f_alt(kvec,α), label= r'$k_{t+1}$', color = 'red')\n",
    "    plt.grid(color = 'grey', linestyle = '--', linewidth = 0.5)\n",
    "    plt.xlabel(r'$k_t$')\n",
    "    plt.ylabel(r'$k_{t+1}$')\n",
    "    plt.ylim(0,4)\n",
    "    plt.xlim(0,4)\n",
    "    plt.legend()\n",
    "    plt.savefig('olg_diag.pdf')\n",
    "    plt.show()\n",
    "\n",
    "# Write out which arguments to interactive_figure you want to be changing or staying fixed \n",
    "widgets.interact(OLG_plot,\n",
    "    α=widgets.FloatSlider(description=r\"α\", min=0.1, max=0.99, step=0.05, value=0.3),\n",
    "    β=widgets.FloatSlider(description=r\"β\", min=0.1, max=0.99, step=0.05, value=0.5),\n",
    "    #δ=widgets.FloatSlider(description=r\"delta\", min=0.1, max=0.99, step=0.05, value=0.3),\n",
    "    n=widgets.FloatSlider(description=r\"n\", min=0.01, max=1, step=0.01, value=0.02),\n",
    "    A=widgets.FloatSlider(description=r\"A\", min=1, max=10, step=1, value=5)\n",
    ");\n"
   ]
  },
  {
   "cell_type": "code",
   "execution_count": 15,
   "id": "e8e22123-1c57-489a-a49b-209a7478d7ae",
   "metadata": {},
   "outputs": [],
   "source": [
    "## OLG with bequest motive\n",
    "# define utility function\n",
    "def v(c1t,c2t,epsilon,beta):\n",
    "    out = sum(epsilon[i]**i for i in range(len(epsilon))*(np.log(c1t[]) + beta*np.log(c2t)))\n",
    "    return out\n",
    "\n",
    "# define budget constraint 1\n",
    "def bc1(c1t,s,w,b):\n",
    "    bc1 = ct1 +s = w + b\n",
    "    return bc1\n",
    "\n",
    "# define budget constraint 2\n",
    "def bc2(c2t,s,b2,r2):\n",
    "    bc2 = ct2 = (1+r)*s + b\n",
    "    return bc2 \n"
   ]
  }
 ],
 "metadata": {
  "kernelspec": {
   "display_name": "Python 3 (ipykernel)",
   "language": "python",
   "name": "python3"
  },
  "language_info": {
   "codemirror_mode": {
    "name": "ipython",
    "version": 3
   },
   "file_extension": ".py",
   "mimetype": "text/x-python",
   "name": "python",
   "nbconvert_exporter": "python",
   "pygments_lexer": "ipython3",
   "version": "3.11.5"
  }
 },
 "nbformat": 4,
 "nbformat_minor": 5
}
